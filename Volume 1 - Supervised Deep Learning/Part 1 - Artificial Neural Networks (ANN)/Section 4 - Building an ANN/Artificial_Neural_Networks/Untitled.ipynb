{
 "cells": [
  {
   "cell_type": "code",
   "execution_count": 1,
   "metadata": {},
   "outputs": [],
   "source": [
    "import tensorflow as tf\n",
    "import pandas as pd\n",
    "import numpy as np\n",
    "import matplotlib.pyplot as plt\n",
    "import seaborn as sns\n"
   ]
  },
  {
   "cell_type": "code",
   "execution_count": 2,
   "metadata": {},
   "outputs": [],
   "source": [
    "df = pd.read_csv('Churn_Modelling.csv')"
   ]
  },
  {
   "cell_type": "code",
   "execution_count": 3,
   "metadata": {
    "scrolled": true
   },
   "outputs": [
    {
     "data": {
      "text/html": [
       "<div>\n",
       "<style scoped>\n",
       "    .dataframe tbody tr th:only-of-type {\n",
       "        vertical-align: middle;\n",
       "    }\n",
       "\n",
       "    .dataframe tbody tr th {\n",
       "        vertical-align: top;\n",
       "    }\n",
       "\n",
       "    .dataframe thead th {\n",
       "        text-align: right;\n",
       "    }\n",
       "</style>\n",
       "<table border=\"1\" class=\"dataframe\">\n",
       "  <thead>\n",
       "    <tr style=\"text-align: right;\">\n",
       "      <th></th>\n",
       "      <th>RowNumber</th>\n",
       "      <th>CustomerId</th>\n",
       "      <th>Surname</th>\n",
       "      <th>CreditScore</th>\n",
       "      <th>Geography</th>\n",
       "      <th>Gender</th>\n",
       "      <th>Age</th>\n",
       "      <th>Tenure</th>\n",
       "      <th>Balance</th>\n",
       "      <th>NumOfProducts</th>\n",
       "      <th>HasCrCard</th>\n",
       "      <th>IsActiveMember</th>\n",
       "      <th>EstimatedSalary</th>\n",
       "      <th>Exited</th>\n",
       "    </tr>\n",
       "  </thead>\n",
       "  <tbody>\n",
       "    <tr>\n",
       "      <th>0</th>\n",
       "      <td>1</td>\n",
       "      <td>15634602</td>\n",
       "      <td>Hargrave</td>\n",
       "      <td>619</td>\n",
       "      <td>France</td>\n",
       "      <td>Female</td>\n",
       "      <td>42</td>\n",
       "      <td>2</td>\n",
       "      <td>0.00</td>\n",
       "      <td>1</td>\n",
       "      <td>1</td>\n",
       "      <td>1</td>\n",
       "      <td>101348.88</td>\n",
       "      <td>1</td>\n",
       "    </tr>\n",
       "    <tr>\n",
       "      <th>1</th>\n",
       "      <td>2</td>\n",
       "      <td>15647311</td>\n",
       "      <td>Hill</td>\n",
       "      <td>608</td>\n",
       "      <td>Spain</td>\n",
       "      <td>Female</td>\n",
       "      <td>41</td>\n",
       "      <td>1</td>\n",
       "      <td>83807.86</td>\n",
       "      <td>1</td>\n",
       "      <td>0</td>\n",
       "      <td>1</td>\n",
       "      <td>112542.58</td>\n",
       "      <td>0</td>\n",
       "    </tr>\n",
       "    <tr>\n",
       "      <th>2</th>\n",
       "      <td>3</td>\n",
       "      <td>15619304</td>\n",
       "      <td>Onio</td>\n",
       "      <td>502</td>\n",
       "      <td>France</td>\n",
       "      <td>Female</td>\n",
       "      <td>42</td>\n",
       "      <td>8</td>\n",
       "      <td>159660.80</td>\n",
       "      <td>3</td>\n",
       "      <td>1</td>\n",
       "      <td>0</td>\n",
       "      <td>113931.57</td>\n",
       "      <td>1</td>\n",
       "    </tr>\n",
       "    <tr>\n",
       "      <th>3</th>\n",
       "      <td>4</td>\n",
       "      <td>15701354</td>\n",
       "      <td>Boni</td>\n",
       "      <td>699</td>\n",
       "      <td>France</td>\n",
       "      <td>Female</td>\n",
       "      <td>39</td>\n",
       "      <td>1</td>\n",
       "      <td>0.00</td>\n",
       "      <td>2</td>\n",
       "      <td>0</td>\n",
       "      <td>0</td>\n",
       "      <td>93826.63</td>\n",
       "      <td>0</td>\n",
       "    </tr>\n",
       "    <tr>\n",
       "      <th>4</th>\n",
       "      <td>5</td>\n",
       "      <td>15737888</td>\n",
       "      <td>Mitchell</td>\n",
       "      <td>850</td>\n",
       "      <td>Spain</td>\n",
       "      <td>Female</td>\n",
       "      <td>43</td>\n",
       "      <td>2</td>\n",
       "      <td>125510.82</td>\n",
       "      <td>1</td>\n",
       "      <td>1</td>\n",
       "      <td>1</td>\n",
       "      <td>79084.10</td>\n",
       "      <td>0</td>\n",
       "    </tr>\n",
       "  </tbody>\n",
       "</table>\n",
       "</div>"
      ],
      "text/plain": [
       "   RowNumber  CustomerId   Surname  CreditScore Geography  Gender  Age  \\\n",
       "0          1    15634602  Hargrave          619    France  Female   42   \n",
       "1          2    15647311      Hill          608     Spain  Female   41   \n",
       "2          3    15619304      Onio          502    France  Female   42   \n",
       "3          4    15701354      Boni          699    France  Female   39   \n",
       "4          5    15737888  Mitchell          850     Spain  Female   43   \n",
       "\n",
       "   Tenure    Balance  NumOfProducts  HasCrCard  IsActiveMember  \\\n",
       "0       2       0.00              1          1               1   \n",
       "1       1   83807.86              1          0               1   \n",
       "2       8  159660.80              3          1               0   \n",
       "3       1       0.00              2          0               0   \n",
       "4       2  125510.82              1          1               1   \n",
       "\n",
       "   EstimatedSalary  Exited  \n",
       "0        101348.88       1  \n",
       "1        112542.58       0  \n",
       "2        113931.57       1  \n",
       "3         93826.63       0  \n",
       "4         79084.10       0  "
      ]
     },
     "execution_count": 3,
     "metadata": {},
     "output_type": "execute_result"
    }
   ],
   "source": [
    "df.head()"
   ]
  },
  {
   "cell_type": "code",
   "execution_count": 4,
   "metadata": {},
   "outputs": [],
   "source": [
    "X = df.iloc[:,3:13].values"
   ]
  },
  {
   "cell_type": "code",
   "execution_count": 5,
   "metadata": {},
   "outputs": [
    {
     "data": {
      "text/plain": [
       "array([[619, 'France', 'Female', ..., 1, 1, 101348.88],\n",
       "       [608, 'Spain', 'Female', ..., 0, 1, 112542.58],\n",
       "       [502, 'France', 'Female', ..., 1, 0, 113931.57],\n",
       "       ...,\n",
       "       [709, 'France', 'Female', ..., 0, 1, 42085.58],\n",
       "       [772, 'Germany', 'Male', ..., 1, 0, 92888.52],\n",
       "       [792, 'France', 'Female', ..., 1, 0, 38190.78]], dtype=object)"
      ]
     },
     "execution_count": 5,
     "metadata": {},
     "output_type": "execute_result"
    }
   ],
   "source": [
    "X"
   ]
  },
  {
   "cell_type": "code",
   "execution_count": 6,
   "metadata": {},
   "outputs": [],
   "source": [
    "y = df.iloc[:,13].values"
   ]
  },
  {
   "cell_type": "code",
   "execution_count": 7,
   "metadata": {},
   "outputs": [
    {
     "data": {
      "text/plain": [
       "array([1, 0, 1, ..., 1, 1, 0], dtype=int64)"
      ]
     },
     "execution_count": 7,
     "metadata": {},
     "output_type": "execute_result"
    }
   ],
   "source": [
    "y"
   ]
  },
  {
   "cell_type": "code",
   "execution_count": 8,
   "metadata": {},
   "outputs": [],
   "source": [
    "from sklearn.preprocessing import Imputer"
   ]
  },
  {
   "cell_type": "code",
   "execution_count": 9,
   "metadata": {},
   "outputs": [],
   "source": [
    "from sklearn.preprocessing import LabelEncoder, OneHotEncoder"
   ]
  },
  {
   "cell_type": "code",
   "execution_count": 10,
   "metadata": {},
   "outputs": [],
   "source": [
    "labelencoder_X_1 = LabelEncoder()"
   ]
  },
  {
   "cell_type": "code",
   "execution_count": 11,
   "metadata": {},
   "outputs": [],
   "source": [
    "X[:,1] = labelencoder_X_1.fit_transform(X[:,1])"
   ]
  },
  {
   "cell_type": "code",
   "execution_count": 12,
   "metadata": {},
   "outputs": [
    {
     "data": {
      "text/plain": [
       "array([[619, 0, 'Female', ..., 1, 1, 101348.88],\n",
       "       [608, 2, 'Female', ..., 0, 1, 112542.58],\n",
       "       [502, 0, 'Female', ..., 1, 0, 113931.57],\n",
       "       ...,\n",
       "       [709, 0, 'Female', ..., 0, 1, 42085.58],\n",
       "       [772, 1, 'Male', ..., 1, 0, 92888.52],\n",
       "       [792, 0, 'Female', ..., 1, 0, 38190.78]], dtype=object)"
      ]
     },
     "execution_count": 12,
     "metadata": {},
     "output_type": "execute_result"
    }
   ],
   "source": [
    "X"
   ]
  },
  {
   "cell_type": "code",
   "execution_count": 13,
   "metadata": {},
   "outputs": [],
   "source": [
    "labelencoder_X_2 = LabelEncoder()"
   ]
  },
  {
   "cell_type": "code",
   "execution_count": 14,
   "metadata": {},
   "outputs": [],
   "source": [
    "X[:,2] = labelencoder_X_2.fit_transform(X[:,2])"
   ]
  },
  {
   "cell_type": "code",
   "execution_count": 15,
   "metadata": {},
   "outputs": [
    {
     "data": {
      "text/plain": [
       "array([[619, 0, 0, ..., 1, 1, 101348.88],\n",
       "       [608, 2, 0, ..., 0, 1, 112542.58],\n",
       "       [502, 0, 0, ..., 1, 0, 113931.57],\n",
       "       ...,\n",
       "       [709, 0, 0, ..., 0, 1, 42085.58],\n",
       "       [772, 1, 1, ..., 1, 0, 92888.52],\n",
       "       [792, 0, 0, ..., 1, 0, 38190.78]], dtype=object)"
      ]
     },
     "execution_count": 15,
     "metadata": {},
     "output_type": "execute_result"
    }
   ],
   "source": [
    "X"
   ]
  },
  {
   "cell_type": "code",
   "execution_count": 16,
   "metadata": {},
   "outputs": [],
   "source": [
    "onehotencoder = OneHotEncoder(categorical_features = [1])"
   ]
  },
  {
   "cell_type": "code",
   "execution_count": 17,
   "metadata": {},
   "outputs": [],
   "source": [
    "X = onehotencoder.fit_transform(X).toarray()"
   ]
  },
  {
   "cell_type": "code",
   "execution_count": 18,
   "metadata": {},
   "outputs": [
    {
     "data": {
      "text/plain": [
       "array([[1.0000000e+00, 0.0000000e+00, 0.0000000e+00, ..., 1.0000000e+00,\n",
       "        1.0000000e+00, 1.0134888e+05],\n",
       "       [0.0000000e+00, 0.0000000e+00, 1.0000000e+00, ..., 0.0000000e+00,\n",
       "        1.0000000e+00, 1.1254258e+05],\n",
       "       [1.0000000e+00, 0.0000000e+00, 0.0000000e+00, ..., 1.0000000e+00,\n",
       "        0.0000000e+00, 1.1393157e+05],\n",
       "       ...,\n",
       "       [1.0000000e+00, 0.0000000e+00, 0.0000000e+00, ..., 0.0000000e+00,\n",
       "        1.0000000e+00, 4.2085580e+04],\n",
       "       [0.0000000e+00, 1.0000000e+00, 0.0000000e+00, ..., 1.0000000e+00,\n",
       "        0.0000000e+00, 9.2888520e+04],\n",
       "       [1.0000000e+00, 0.0000000e+00, 0.0000000e+00, ..., 1.0000000e+00,\n",
       "        0.0000000e+00, 3.8190780e+04]])"
      ]
     },
     "execution_count": 18,
     "metadata": {},
     "output_type": "execute_result"
    }
   ],
   "source": [
    "X"
   ]
  },
  {
   "cell_type": "code",
   "execution_count": 19,
   "metadata": {},
   "outputs": [],
   "source": [
    "X = X[:,1:]"
   ]
  },
  {
   "cell_type": "code",
   "execution_count": 20,
   "metadata": {},
   "outputs": [
    {
     "data": {
      "text/plain": [
       "array([[0.0000000e+00, 0.0000000e+00, 6.1900000e+02, ..., 1.0000000e+00,\n",
       "        1.0000000e+00, 1.0134888e+05],\n",
       "       [0.0000000e+00, 1.0000000e+00, 6.0800000e+02, ..., 0.0000000e+00,\n",
       "        1.0000000e+00, 1.1254258e+05],\n",
       "       [0.0000000e+00, 0.0000000e+00, 5.0200000e+02, ..., 1.0000000e+00,\n",
       "        0.0000000e+00, 1.1393157e+05],\n",
       "       ...,\n",
       "       [0.0000000e+00, 0.0000000e+00, 7.0900000e+02, ..., 0.0000000e+00,\n",
       "        1.0000000e+00, 4.2085580e+04],\n",
       "       [1.0000000e+00, 0.0000000e+00, 7.7200000e+02, ..., 1.0000000e+00,\n",
       "        0.0000000e+00, 9.2888520e+04],\n",
       "       [0.0000000e+00, 0.0000000e+00, 7.9200000e+02, ..., 1.0000000e+00,\n",
       "        0.0000000e+00, 3.8190780e+04]])"
      ]
     },
     "execution_count": 20,
     "metadata": {},
     "output_type": "execute_result"
    }
   ],
   "source": [
    "X"
   ]
  },
  {
   "cell_type": "code",
   "execution_count": 21,
   "metadata": {},
   "outputs": [
    {
     "name": "stderr",
     "output_type": "stream",
     "text": [
      "C:\\ProgramData\\Anaconda3\\lib\\site-packages\\sklearn\\cross_validation.py:41: DeprecationWarning: This module was deprecated in version 0.18 in favor of the model_selection module into which all the refactored classes and functions are moved. Also note that the interface of the new CV iterators are different from that of this module. This module will be removed in 0.20.\n",
      "  \"This module will be removed in 0.20.\", DeprecationWarning)\n"
     ]
    }
   ],
   "source": [
    "from sklearn.cross_validation import train_test_split\n",
    "X_train, X_test, y_train, y_test = train_test_split(X, y, test_size = 0.20, random_state = 0)"
   ]
  },
  {
   "cell_type": "code",
   "execution_count": 22,
   "metadata": {},
   "outputs": [],
   "source": [
    "from sklearn.preprocessing import StandardScaler\n",
    "sc = StandardScaler()\n",
    "X_train = sc.fit_transform(X_train)\n",
    "X_test = sc.transform(X_test)"
   ]
  },
  {
   "cell_type": "code",
   "execution_count": 23,
   "metadata": {},
   "outputs": [
    {
     "name": "stderr",
     "output_type": "stream",
     "text": [
      "Using TensorFlow backend.\n"
     ]
    }
   ],
   "source": [
    "import keras\n",
    "from keras.models import Sequential\n",
    "from keras.layers import Dense"
   ]
  },
  {
   "cell_type": "code",
   "execution_count": 24,
   "metadata": {},
   "outputs": [],
   "source": [
    "#_init_ ANN"
   ]
  },
  {
   "cell_type": "code",
   "execution_count": 25,
   "metadata": {},
   "outputs": [],
   "source": [
    "classifier = Sequential()"
   ]
  },
  {
   "cell_type": "code",
   "execution_count": 26,
   "metadata": {},
   "outputs": [],
   "source": [
    "classifier.add(Dense(units=15,kernel_initializer='uniform',activation='relu',input_dim = 11))"
   ]
  },
  {
   "cell_type": "code",
   "execution_count": 27,
   "metadata": {},
   "outputs": [],
   "source": [
    "classifier.add(Dense(units=15,kernel_initializer='uniform',activation='relu'))"
   ]
  },
  {
   "cell_type": "code",
   "execution_count": 28,
   "metadata": {},
   "outputs": [],
   "source": [
    "classifier.add(Dense(units=1,kernel_initializer='uniform',activation='sigmoid'))"
   ]
  },
  {
   "cell_type": "code",
   "execution_count": 29,
   "metadata": {},
   "outputs": [],
   "source": [
    "classifier.compile(optimizer='adam',loss='binary_crossentropy',metrics=['accuracy'])"
   ]
  },
  {
   "cell_type": "code",
   "execution_count": 30,
   "metadata": {
    "scrolled": false
   },
   "outputs": [
    {
     "name": "stdout",
     "output_type": "stream",
     "text": [
      "Epoch 1/100\n",
      "8000/8000 [==============================] - 1s 88us/step - loss: 0.4649 - acc: 0.7954\n",
      "Epoch 2/100\n",
      "8000/8000 [==============================] - 0s 52us/step - loss: 0.4222 - acc: 0.8079\n",
      "Epoch 3/100\n",
      "8000/8000 [==============================] - 0s 51us/step - loss: 0.4124 - acc: 0.8341\n",
      "Epoch 4/100\n",
      "8000/8000 [==============================] - 0s 53us/step - loss: 0.4077 - acc: 0.8334\n",
      "Epoch 5/100\n",
      "8000/8000 [==============================] - 0s 51us/step - loss: 0.4040 - acc: 0.8362\n",
      "Epoch 6/100\n",
      "8000/8000 [==============================] - 0s 50us/step - loss: 0.4021 - acc: 0.8332\n",
      "Epoch 7/100\n",
      "8000/8000 [==============================] - 0s 50us/step - loss: 0.4006 - acc: 0.8349\n",
      "Epoch 8/100\n",
      "8000/8000 [==============================] - 0s 51us/step - loss: 0.3993 - acc: 0.8346\n",
      "Epoch 9/100\n",
      "8000/8000 [==============================] - 0s 50us/step - loss: 0.3982 - acc: 0.8351\n",
      "Epoch 10/100\n",
      "8000/8000 [==============================] - 0s 52us/step - loss: 0.3977 - acc: 0.8366\n",
      "Epoch 11/100\n",
      "8000/8000 [==============================] - 0s 50us/step - loss: 0.3972 - acc: 0.8391\n",
      "Epoch 12/100\n",
      "8000/8000 [==============================] - 0s 50us/step - loss: 0.3962 - acc: 0.8365\n",
      "Epoch 13/100\n",
      "8000/8000 [==============================] - 0s 51us/step - loss: 0.3962 - acc: 0.8354\n",
      "Epoch 14/100\n",
      "8000/8000 [==============================] - 0s 51us/step - loss: 0.3957 - acc: 0.8366\n",
      "Epoch 15/100\n",
      "8000/8000 [==============================] - 0s 51us/step - loss: 0.3948 - acc: 0.8361\n",
      "Epoch 16/100\n",
      "8000/8000 [==============================] - 0s 51us/step - loss: 0.3946 - acc: 0.8366\n",
      "Epoch 17/100\n",
      "8000/8000 [==============================] - 0s 51us/step - loss: 0.3934 - acc: 0.8369\n",
      "Epoch 18/100\n",
      "8000/8000 [==============================] - 0s 51us/step - loss: 0.3937 - acc: 0.8362\n",
      "Epoch 19/100\n",
      "8000/8000 [==============================] - 0s 51us/step - loss: 0.3938 - acc: 0.8381\n",
      "Epoch 20/100\n",
      "8000/8000 [==============================] - 0s 53us/step - loss: 0.3934 - acc: 0.8369\n",
      "Epoch 21/100\n",
      "8000/8000 [==============================] - 0s 52us/step - loss: 0.3925 - acc: 0.8380\n",
      "Epoch 22/100\n",
      "8000/8000 [==============================] - 0s 52us/step - loss: 0.3922 - acc: 0.8386\n",
      "Epoch 23/100\n",
      "8000/8000 [==============================] - 0s 52us/step - loss: 0.3922 - acc: 0.8395\n",
      "Epoch 24/100\n",
      "8000/8000 [==============================] - 0s 51us/step - loss: 0.3920 - acc: 0.8385\n",
      "Epoch 25/100\n",
      "8000/8000 [==============================] - 0s 50us/step - loss: 0.3920 - acc: 0.8381\n",
      "Epoch 26/100\n",
      "8000/8000 [==============================] - 0s 51us/step - loss: 0.3904 - acc: 0.8387\n",
      "Epoch 27/100\n",
      "8000/8000 [==============================] - 0s 52us/step - loss: 0.3893 - acc: 0.8414\n",
      "Epoch 28/100\n",
      "8000/8000 [==============================] - 0s 51us/step - loss: 0.3862 - acc: 0.8427\n",
      "Epoch 29/100\n",
      "8000/8000 [==============================] - 0s 51us/step - loss: 0.3831 - acc: 0.8427\n",
      "Epoch 30/100\n",
      "8000/8000 [==============================] - 0s 51us/step - loss: 0.3783 - acc: 0.8446\n",
      "Epoch 31/100\n",
      "8000/8000 [==============================] - 0s 50us/step - loss: 0.3728 - acc: 0.8456\n",
      "Epoch 32/100\n",
      "8000/8000 [==============================] - 0s 52us/step - loss: 0.3654 - acc: 0.8499\n",
      "Epoch 33/100\n",
      "8000/8000 [==============================] - 0s 51us/step - loss: 0.3580 - acc: 0.8524\n",
      "Epoch 34/100\n",
      "8000/8000 [==============================] - 0s 51us/step - loss: 0.3544 - acc: 0.8527\n",
      "Epoch 35/100\n",
      "8000/8000 [==============================] - 0s 50us/step - loss: 0.3504 - acc: 0.8582\n",
      "Epoch 36/100\n",
      "8000/8000 [==============================] - 0s 51us/step - loss: 0.3479 - acc: 0.8571\n",
      "Epoch 37/100\n",
      "8000/8000 [==============================] - 0s 51us/step - loss: 0.3463 - acc: 0.8580\n",
      "Epoch 38/100\n",
      "8000/8000 [==============================] - 0s 51us/step - loss: 0.3444 - acc: 0.8576\n",
      "Epoch 39/100\n",
      "8000/8000 [==============================] - 0s 50us/step - loss: 0.3424 - acc: 0.8561\n",
      "Epoch 40/100\n",
      "8000/8000 [==============================] - 0s 51us/step - loss: 0.3428 - acc: 0.8562\n",
      "Epoch 41/100\n",
      "8000/8000 [==============================] - 0s 51us/step - loss: 0.3405 - acc: 0.8574\n",
      "Epoch 42/100\n",
      "8000/8000 [==============================] - 0s 51us/step - loss: 0.3410 - acc: 0.8594\n",
      "Epoch 43/100\n",
      "8000/8000 [==============================] - 0s 51us/step - loss: 0.3394 - acc: 0.8615\n",
      "Epoch 44/100\n",
      "8000/8000 [==============================] - 0s 51us/step - loss: 0.3390 - acc: 0.8601\n",
      "Epoch 45/100\n",
      "8000/8000 [==============================] - 0s 51us/step - loss: 0.3388 - acc: 0.8612\n",
      "Epoch 46/100\n",
      "8000/8000 [==============================] - 0s 52us/step - loss: 0.3383 - acc: 0.8615\n",
      "Epoch 47/100\n",
      "8000/8000 [==============================] - 0s 52us/step - loss: 0.3377 - acc: 0.8611\n",
      "Epoch 48/100\n",
      "8000/8000 [==============================] - 0s 51us/step - loss: 0.3379 - acc: 0.8612\n",
      "Epoch 49/100\n",
      "8000/8000 [==============================] - 0s 53us/step - loss: 0.3373 - acc: 0.8612\n",
      "Epoch 50/100\n",
      "8000/8000 [==============================] - 0s 51us/step - loss: 0.3367 - acc: 0.8580\n",
      "Epoch 51/100\n",
      "8000/8000 [==============================] - 0s 52us/step - loss: 0.3369 - acc: 0.8601\n",
      "Epoch 52/100\n",
      "8000/8000 [==============================] - 0s 52us/step - loss: 0.3363 - acc: 0.8612\n",
      "Epoch 53/100\n",
      "8000/8000 [==============================] - 0s 55us/step - loss: 0.3357 - acc: 0.8624\n",
      "Epoch 54/100\n",
      "8000/8000 [==============================] - 0s 52us/step - loss: 0.3359 - acc: 0.8594\n",
      "Epoch 55/100\n",
      "8000/8000 [==============================] - 0s 55us/step - loss: 0.3344 - acc: 0.8594\n",
      "Epoch 56/100\n",
      "8000/8000 [==============================] - 0s 53us/step - loss: 0.3329 - acc: 0.8641\n",
      "Epoch 57/100\n",
      "8000/8000 [==============================] - 0s 53us/step - loss: 0.3339 - acc: 0.8619\n",
      "Epoch 58/100\n",
      "8000/8000 [==============================] - 0s 54us/step - loss: 0.3339 - acc: 0.8621\n",
      "Epoch 59/100\n",
      "8000/8000 [==============================] - 0s 52us/step - loss: 0.3340 - acc: 0.8619\n",
      "Epoch 60/100\n",
      "8000/8000 [==============================] - 0s 51us/step - loss: 0.3333 - acc: 0.8639\n",
      "Epoch 61/100\n",
      "8000/8000 [==============================] - 0s 52us/step - loss: 0.3318 - acc: 0.8630\n",
      "Epoch 62/100\n",
      "8000/8000 [==============================] - 0s 54us/step - loss: 0.3332 - acc: 0.8636\n",
      "Epoch 63/100\n",
      "8000/8000 [==============================] - 0s 52us/step - loss: 0.3338 - acc: 0.8620\n",
      "Epoch 64/100\n",
      "8000/8000 [==============================] - 0s 51us/step - loss: 0.3331 - acc: 0.8627\n",
      "Epoch 65/100\n",
      "8000/8000 [==============================] - 0s 51us/step - loss: 0.3318 - acc: 0.8640\n",
      "Epoch 66/100\n",
      "8000/8000 [==============================] - 0s 50us/step - loss: 0.3316 - acc: 0.8611\n",
      "Epoch 67/100\n",
      "8000/8000 [==============================] - 0s 52us/step - loss: 0.3314 - acc: 0.8617\n",
      "Epoch 68/100\n",
      "8000/8000 [==============================] - 0s 51us/step - loss: 0.3312 - acc: 0.8614\n",
      "Epoch 69/100\n",
      "8000/8000 [==============================] - 0s 51us/step - loss: 0.3323 - acc: 0.8626\n",
      "Epoch 70/100\n",
      "8000/8000 [==============================] - 0s 51us/step - loss: 0.3319 - acc: 0.8644\n",
      "Epoch 71/100\n",
      "8000/8000 [==============================] - 0s 51us/step - loss: 0.3308 - acc: 0.8629\n",
      "Epoch 72/100\n",
      "8000/8000 [==============================] - 0s 51us/step - loss: 0.3299 - acc: 0.8622\n",
      "Epoch 73/100\n",
      "8000/8000 [==============================] - 0s 52us/step - loss: 0.3296 - acc: 0.8652\n",
      "Epoch 74/100\n",
      "8000/8000 [==============================] - 0s 52us/step - loss: 0.3296 - acc: 0.8639\n",
      "Epoch 75/100\n",
      "8000/8000 [==============================] - 0s 51us/step - loss: 0.3285 - acc: 0.8625\n",
      "Epoch 76/100\n",
      "8000/8000 [==============================] - 0s 52us/step - loss: 0.3293 - acc: 0.8631\n",
      "Epoch 77/100\n",
      "8000/8000 [==============================] - 0s 51us/step - loss: 0.3295 - acc: 0.8609\n",
      "Epoch 78/100\n",
      "8000/8000 [==============================] - 0s 52us/step - loss: 0.3289 - acc: 0.8655\n",
      "Epoch 79/100\n",
      "8000/8000 [==============================] - 0s 53us/step - loss: 0.3290 - acc: 0.8634\n",
      "Epoch 80/100\n",
      "8000/8000 [==============================] - 0s 53us/step - loss: 0.3291 - acc: 0.8635\n",
      "Epoch 81/100\n",
      "8000/8000 [==============================] - 0s 52us/step - loss: 0.3283 - acc: 0.8650\n",
      "Epoch 82/100\n",
      "8000/8000 [==============================] - 0s 52us/step - loss: 0.3290 - acc: 0.8645\n",
      "Epoch 83/100\n"
     ]
    },
    {
     "name": "stdout",
     "output_type": "stream",
     "text": [
      "8000/8000 [==============================] - 0s 51us/step - loss: 0.3288 - acc: 0.8645\n",
      "Epoch 84/100\n",
      "8000/8000 [==============================] - 0s 52us/step - loss: 0.3273 - acc: 0.8651\n",
      "Epoch 85/100\n",
      "8000/8000 [==============================] - 0s 52us/step - loss: 0.3282 - acc: 0.8664\n",
      "Epoch 86/100\n",
      "8000/8000 [==============================] - 0s 50us/step - loss: 0.3276 - acc: 0.8659\n",
      "Epoch 87/100\n",
      "8000/8000 [==============================] - 0s 51us/step - loss: 0.3261 - acc: 0.8650\n",
      "Epoch 88/100\n",
      "8000/8000 [==============================] - 0s 51us/step - loss: 0.3269 - acc: 0.8660\n",
      "Epoch 89/100\n",
      "8000/8000 [==============================] - 0s 52us/step - loss: 0.3286 - acc: 0.8635\n",
      "Epoch 90/100\n",
      "8000/8000 [==============================] - 0s 52us/step - loss: 0.3277 - acc: 0.8654\n",
      "Epoch 91/100\n",
      "8000/8000 [==============================] - 0s 50us/step - loss: 0.3289 - acc: 0.8656\n",
      "Epoch 92/100\n",
      "8000/8000 [==============================] - 0s 51us/step - loss: 0.3277 - acc: 0.8640\n",
      "Epoch 93/100\n",
      "8000/8000 [==============================] - 0s 51us/step - loss: 0.3261 - acc: 0.8647\n",
      "Epoch 94/100\n",
      "8000/8000 [==============================] - 0s 51us/step - loss: 0.3264 - acc: 0.8621\n",
      "Epoch 95/100\n",
      "8000/8000 [==============================] - 0s 52us/step - loss: 0.3273 - acc: 0.8631\n",
      "Epoch 96/100\n",
      "8000/8000 [==============================] - 0s 50us/step - loss: 0.3270 - acc: 0.8666\n",
      "Epoch 97/100\n",
      "8000/8000 [==============================] - 0s 51us/step - loss: 0.3259 - acc: 0.8632\n",
      "Epoch 98/100\n",
      "8000/8000 [==============================] - 0s 52us/step - loss: 0.3266 - acc: 0.8650\n",
      "Epoch 99/100\n",
      "8000/8000 [==============================] - 0s 50us/step - loss: 0.3261 - acc: 0.8637\n",
      "Epoch 100/100\n",
      "8000/8000 [==============================] - 0s 52us/step - loss: 0.3267 - acc: 0.8672\n"
     ]
    },
    {
     "data": {
      "text/plain": [
       "<keras.callbacks.History at 0x1eec8ce2358>"
      ]
     },
     "execution_count": 30,
     "metadata": {},
     "output_type": "execute_result"
    }
   ],
   "source": [
    "classifier.fit(X_train,y_train,batch_size=10,epochs= 100)"
   ]
  },
  {
   "cell_type": "code",
   "execution_count": 31,
   "metadata": {},
   "outputs": [],
   "source": [
    "y_pred = classifier.predict(X_test)"
   ]
  },
  {
   "cell_type": "code",
   "execution_count": 32,
   "metadata": {},
   "outputs": [
    {
     "data": {
      "text/plain": [
       "RowNumber         -0.016571\n",
       "CustomerId        -0.006248\n",
       "CreditScore       -0.027094\n",
       "Age                0.285323\n",
       "Tenure            -0.014001\n",
       "Balance            0.118533\n",
       "NumOfProducts     -0.047820\n",
       "HasCrCard         -0.007138\n",
       "IsActiveMember    -0.156128\n",
       "EstimatedSalary    0.012097\n",
       "Exited             1.000000\n",
       "Name: Exited, dtype: float64"
      ]
     },
     "execution_count": 32,
     "metadata": {},
     "output_type": "execute_result"
    }
   ],
   "source": [
    "df.corr()['Exited']"
   ]
  },
  {
   "cell_type": "code",
   "execution_count": 33,
   "metadata": {},
   "outputs": [
    {
     "data": {
      "text/plain": [
       "<matplotlib.axes._subplots.AxesSubplot at 0x1eec9b48748>"
      ]
     },
     "execution_count": 33,
     "metadata": {},
     "output_type": "execute_result"
    },
    {
     "data": {
      "image/png": "[encoded data removed]",
      "text/plain": [
       "<Figure size 864x648 with 1 Axes>"
      ]
     },
     "metadata": {},
     "output_type": "display_data"
    }
   ],
   "source": [
    "plt.figure(figsize=(12,9))\n",
    "sns.distplot(df['Age'])"
   ]
  },
  {
   "cell_type": "code",
   "execution_count": 34,
   "metadata": {},
   "outputs": [
    {
     "data": {
      "text/plain": [
       "<matplotlib.axes._subplots.AxesSubplot at 0x1eecab9e358>"
      ]
     },
     "execution_count": 34,
     "metadata": {},
     "output_type": "execute_result"
    },
    {
     "data": {
      "image/png": "[encoded data removed]",
      "text/plain": [
       "<Figure size 864x648 with 1 Axes>"
      ]
     },
     "metadata": {},
     "output_type": "display_data"
    }
   ],
   "source": [
    "plt.figure(figsize=(12,9))\n",
    "sns.countplot(x='Geography',hue='Exited',data=df)"
   ]
  },
  {
   "cell_type": "code",
   "execution_count": 35,
   "metadata": {},
   "outputs": [
    {
     "data": {
      "text/plain": [
       "<matplotlib.axes._subplots.AxesSubplot at 0x1eec9b48898>"
      ]
     },
     "execution_count": 35,
     "metadata": {},
     "output_type": "execute_result"
    },
    {
     "data": {
      "image/png": "[encoded data removed]",
      "text/plain": [
       "<Figure size 1080x1080 with 1 Axes>"
      ]
     },
     "metadata": {},
     "output_type": "display_data"
    }
   ],
   "source": [
    "plt.figure(figsize=(15,15))\n",
    "sns.barplot(x='Geography',y='Age',hue='Exited',data=df)"
   ]
  },
  {
   "cell_type": "code",
   "execution_count": 36,
   "metadata": {},
   "outputs": [
    {
     "data": {
      "text/plain": [
       "92"
      ]
     },
     "execution_count": 36,
     "metadata": {},
     "output_type": "execute_result"
    }
   ],
   "source": [
    "df['Age'].max()"
   ]
  },
  {
   "cell_type": "code",
   "execution_count": 37,
   "metadata": {},
   "outputs": [
    {
     "data": {
      "text/plain": [
       "<matplotlib.axes._subplots.AxesSubplot at 0x1eecd0476a0>"
      ]
     },
     "execution_count": 37,
     "metadata": {},
     "output_type": "execute_result"
    },
    {
     "data": {
      "image/png": "[encoded data removed]",
      "text/plain": [
       "<Figure size 1080x1080 with 1 Axes>"
      ]
     },
     "metadata": {},
     "output_type": "display_data"
    }
   ],
   "source": [
    "plt.figure(figsize=(15,15))\n",
    "sns.barplot(x='Gender',y='Age',hue='Exited',data=df)"
   ]
  },
  {
   "cell_type": "code",
   "execution_count": 38,
   "metadata": {},
   "outputs": [
    {
     "data": {
      "text/plain": [
       "-0.02709353975465779"
      ]
     },
     "execution_count": 38,
     "metadata": {},
     "output_type": "execute_result"
    }
   ],
   "source": [
    "df['CreditScore'].corr(df['Exited'])"
   ]
  },
  {
   "cell_type": "code",
   "execution_count": 39,
   "metadata": {},
   "outputs": [
    {
     "data": {
      "text/plain": [
       "0.28532303783506835"
      ]
     },
     "execution_count": 39,
     "metadata": {},
     "output_type": "execute_result"
    }
   ],
   "source": [
    "df['Age'].corr(df['Exited'])"
   ]
  },
  {
   "cell_type": "code",
   "execution_count": 40,
   "metadata": {},
   "outputs": [],
   "source": [
    "from sklearn.metrics import confusion_matrix,classification_report"
   ]
  },
  {
   "cell_type": "code",
   "execution_count": 41,
   "metadata": {},
   "outputs": [],
   "source": [
    "y_pred = (y_pred>0.5)"
   ]
  },
  {
   "cell_type": "code",
   "execution_count": 42,
   "metadata": {},
   "outputs": [],
   "source": [
    "cm = confusion_matrix(y_test,y_pred)"
   ]
  },
  {
   "cell_type": "code",
   "execution_count": 43,
   "metadata": {},
   "outputs": [
    {
     "data": {
      "text/plain": [
       "array([[1517,   78],\n",
       "       [ 203,  202]], dtype=int64)"
      ]
     },
     "execution_count": 43,
     "metadata": {},
     "output_type": "execute_result"
    }
   ],
   "source": [
    "cm"
   ]
  },
  {
   "cell_type": "code",
   "execution_count": 44,
   "metadata": {},
   "outputs": [
    {
     "data": {
      "text/plain": [
       "0.8645"
      ]
     },
     "execution_count": 44,
     "metadata": {},
     "output_type": "execute_result"
    }
   ],
   "source": [
    "((1520+209)/2000)"
   ]
  },
  {
   "cell_type": "code",
   "execution_count": null,
   "metadata": {},
   "outputs": [],
   "source": []
  },
  {
   "cell_type": "code",
   "execution_count": 45,
   "metadata": {},
   "outputs": [
    {
     "data": {
      "text/plain": [
       "array([[0.0000000e+00, 0.0000000e+00, 6.1900000e+02, ..., 1.0000000e+00,\n",
       "        1.0000000e+00, 1.0134888e+05],\n",
       "       [0.0000000e+00, 1.0000000e+00, 6.0800000e+02, ..., 0.0000000e+00,\n",
       "        1.0000000e+00, 1.1254258e+05],\n",
       "       [0.0000000e+00, 0.0000000e+00, 5.0200000e+02, ..., 1.0000000e+00,\n",
       "        0.0000000e+00, 1.1393157e+05],\n",
       "       ...,\n",
       "       [0.0000000e+00, 0.0000000e+00, 7.0900000e+02, ..., 0.0000000e+00,\n",
       "        1.0000000e+00, 4.2085580e+04],\n",
       "       [1.0000000e+00, 0.0000000e+00, 7.7200000e+02, ..., 1.0000000e+00,\n",
       "        0.0000000e+00, 9.2888520e+04],\n",
       "       [0.0000000e+00, 0.0000000e+00, 7.9200000e+02, ..., 1.0000000e+00,\n",
       "        0.0000000e+00, 3.8190780e+04]])"
      ]
     },
     "execution_count": 45,
     "metadata": {},
     "output_type": "execute_result"
    }
   ],
   "source": [
    "X"
   ]
  },
  {
   "cell_type": "code",
   "execution_count": 46,
   "metadata": {},
   "outputs": [
    {
     "data": {
      "text/html": [
       "<div>\n",
       "<style scoped>\n",
       "    .dataframe tbody tr th:only-of-type {\n",
       "        vertical-align: middle;\n",
       "    }\n",
       "\n",
       "    .dataframe tbody tr th {\n",
       "        vertical-align: top;\n",
       "    }\n",
       "\n",
       "    .dataframe thead th {\n",
       "        text-align: right;\n",
       "    }\n",
       "</style>\n",
       "<table border=\"1\" class=\"dataframe\">\n",
       "  <thead>\n",
       "    <tr style=\"text-align: right;\">\n",
       "      <th></th>\n",
       "      <th>RowNumber</th>\n",
       "      <th>CustomerId</th>\n",
       "      <th>Surname</th>\n",
       "      <th>CreditScore</th>\n",
       "      <th>Geography</th>\n",
       "      <th>Gender</th>\n",
       "      <th>Age</th>\n",
       "      <th>Tenure</th>\n",
       "      <th>Balance</th>\n",
       "      <th>NumOfProducts</th>\n",
       "      <th>HasCrCard</th>\n",
       "      <th>IsActiveMember</th>\n",
       "      <th>EstimatedSalary</th>\n",
       "      <th>Exited</th>\n",
       "    </tr>\n",
       "  </thead>\n",
       "  <tbody>\n",
       "    <tr>\n",
       "      <th>0</th>\n",
       "      <td>1</td>\n",
       "      <td>15634602</td>\n",
       "      <td>Hargrave</td>\n",
       "      <td>619</td>\n",
       "      <td>France</td>\n",
       "      <td>Female</td>\n",
       "      <td>42</td>\n",
       "      <td>2</td>\n",
       "      <td>0.00</td>\n",
       "      <td>1</td>\n",
       "      <td>1</td>\n",
       "      <td>1</td>\n",
       "      <td>101348.88</td>\n",
       "      <td>1</td>\n",
       "    </tr>\n",
       "    <tr>\n",
       "      <th>1</th>\n",
       "      <td>2</td>\n",
       "      <td>15647311</td>\n",
       "      <td>Hill</td>\n",
       "      <td>608</td>\n",
       "      <td>Spain</td>\n",
       "      <td>Female</td>\n",
       "      <td>41</td>\n",
       "      <td>1</td>\n",
       "      <td>83807.86</td>\n",
       "      <td>1</td>\n",
       "      <td>0</td>\n",
       "      <td>1</td>\n",
       "      <td>112542.58</td>\n",
       "      <td>0</td>\n",
       "    </tr>\n",
       "    <tr>\n",
       "      <th>2</th>\n",
       "      <td>3</td>\n",
       "      <td>15619304</td>\n",
       "      <td>Onio</td>\n",
       "      <td>502</td>\n",
       "      <td>France</td>\n",
       "      <td>Female</td>\n",
       "      <td>42</td>\n",
       "      <td>8</td>\n",
       "      <td>159660.80</td>\n",
       "      <td>3</td>\n",
       "      <td>1</td>\n",
       "      <td>0</td>\n",
       "      <td>113931.57</td>\n",
       "      <td>1</td>\n",
       "    </tr>\n",
       "    <tr>\n",
       "      <th>3</th>\n",
       "      <td>4</td>\n",
       "      <td>15701354</td>\n",
       "      <td>Boni</td>\n",
       "      <td>699</td>\n",
       "      <td>France</td>\n",
       "      <td>Female</td>\n",
       "      <td>39</td>\n",
       "      <td>1</td>\n",
       "      <td>0.00</td>\n",
       "      <td>2</td>\n",
       "      <td>0</td>\n",
       "      <td>0</td>\n",
       "      <td>93826.63</td>\n",
       "      <td>0</td>\n",
       "    </tr>\n",
       "    <tr>\n",
       "      <th>4</th>\n",
       "      <td>5</td>\n",
       "      <td>15737888</td>\n",
       "      <td>Mitchell</td>\n",
       "      <td>850</td>\n",
       "      <td>Spain</td>\n",
       "      <td>Female</td>\n",
       "      <td>43</td>\n",
       "      <td>2</td>\n",
       "      <td>125510.82</td>\n",
       "      <td>1</td>\n",
       "      <td>1</td>\n",
       "      <td>1</td>\n",
       "      <td>79084.10</td>\n",
       "      <td>0</td>\n",
       "    </tr>\n",
       "  </tbody>\n",
       "</table>\n",
       "</div>"
      ],
      "text/plain": [
       "   RowNumber  CustomerId   Surname  CreditScore Geography  Gender  Age  \\\n",
       "0          1    15634602  Hargrave          619    France  Female   42   \n",
       "1          2    15647311      Hill          608     Spain  Female   41   \n",
       "2          3    15619304      Onio          502    France  Female   42   \n",
       "3          4    15701354      Boni          699    France  Female   39   \n",
       "4          5    15737888  Mitchell          850     Spain  Female   43   \n",
       "\n",
       "   Tenure    Balance  NumOfProducts  HasCrCard  IsActiveMember  \\\n",
       "0       2       0.00              1          1               1   \n",
       "1       1   83807.86              1          0               1   \n",
       "2       8  159660.80              3          1               0   \n",
       "3       1       0.00              2          0               0   \n",
       "4       2  125510.82              1          1               1   \n",
       "\n",
       "   EstimatedSalary  Exited  \n",
       "0        101348.88       1  \n",
       "1        112542.58       0  \n",
       "2        113931.57       1  \n",
       "3         93826.63       0  \n",
       "4         79084.10       0  "
      ]
     },
     "execution_count": 46,
     "metadata": {},
     "output_type": "execute_result"
    }
   ],
   "source": [
    "df.head()"
   ]
  },
  {
   "cell_type": "code",
   "execution_count": 47,
   "metadata": {},
   "outputs": [],
   "source": [
    "new_prediction = classifier.predict(sc.transform(np.array([[1.0,1,1055,0,40,3,60000,2,1,1,10000000]])))"
   ]
  },
  {
   "cell_type": "code",
   "execution_count": 48,
   "metadata": {},
   "outputs": [],
   "source": [
    "new_prediction = (new_prediction<0.5)\n"
   ]
  },
  {
   "cell_type": "code",
   "execution_count": 49,
   "metadata": {},
   "outputs": [
    {
     "data": {
      "text/plain": [
       "array([[ True]])"
      ]
     },
     "execution_count": 49,
     "metadata": {},
     "output_type": "execute_result"
    }
   ],
   "source": [
    "new_prediction"
   ]
  },
  {
   "cell_type": "code",
   "execution_count": 51,
   "metadata": {},
   "outputs": [],
   "source": [
    "from keras.wrappers.scikit_learn import KerasClassifier\n",
    "from sklearn.model_selection import cross_val_score"
   ]
  },
  {
   "cell_type": "code",
   "execution_count": 52,
   "metadata": {},
   "outputs": [],
   "source": [
    "def build_ANN():\n",
    "    # Initialising the ANN\n",
    "    classifier = Sequential()\n",
    "\n",
    "    # Adding the input layer and the first hidden layer\n",
    "    classifier.add(Dense(units = 6, kernel_initializer = 'uniform', activation = 'relu', input_dim = 11))\n",
    "\n",
    "    # Adding the second hidden layer\n",
    "    classifier.add(Dense(units = 6, kernel_initializer = 'uniform', activation = 'relu'))\n",
    "\n",
    "    # Adding the output layer\n",
    "    classifier.add(Dense(units = 1, kernel_initializer = 'uniform', activation = 'sigmoid'))\n",
    "\n",
    "    # Compiling the ANN\n",
    "    classifier.compile(optimizer = 'adam', loss = 'binary_crossentropy', metrics = ['accuracy'])\n",
    "    return classifier\n",
    "    \n",
    "    "
   ]
  },
  {
   "cell_type": "code",
   "execution_count": 53,
   "metadata": {},
   "outputs": [],
   "source": [
    "classifier = KerasClassifier(build_fn=build_ANN, batch_size = 10, epochs = 100)"
   ]
  },
  {
   "cell_type": "code",
   "execution_count": null,
   "metadata": {},
   "outputs": [],
   "source": [
    "accuracy = cross_val_score(estimator=classifier, X = X_train, y = y_train, cv = 10, n_jobs= -1)"
   ]
  },
  {
   "cell_type": "code",
   "execution_count": null,
   "metadata": {},
   "outputs": [],
   "source": []
  }
 ],
 "metadata": {
  "kernelspec": {
   "display_name": "Python 3",
   "language": "python",
   "name": "python3"
  },
  "language_info": {
   "codemirror_mode": {
    "name": "ipython",
    "version": 3
   },
   "file_extension": ".py",
   "mimetype": "text/x-python",
   "name": "python",
   "nbconvert_exporter": "python",
   "pygments_lexer": "ipython3",
   "version": "3.6.6"
  }
 },
 "nbformat": 4,
 "nbformat_minor": 2
}
