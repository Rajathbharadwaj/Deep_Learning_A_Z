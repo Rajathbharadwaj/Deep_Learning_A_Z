{
 "cells": [
  {
   "cell_type": "code",
   "execution_count": 1,
   "metadata": {},
   "outputs": [],
   "source": [
    "import tensorflow as tf\n",
    "import pandas as pd\n",
    "import numpy as np\n",
    "import matplotlib.pyplot as plt\n",
    "import seaborn as sns\n"
   ]
  },
  {
   "cell_type": "code",
   "execution_count": 2,
   "metadata": {},
   "outputs": [],
   "source": [
    "df = pd.read_csv('Churn_Modelling.csv')"
   ]
  },
  {
   "cell_type": "code",
   "execution_count": 3,
   "metadata": {
    "scrolled": true
   },
   "outputs": [
    {
     "data": {
      "text/html": [
       "<div>\n",
       "<style scoped>\n",
       "    .dataframe tbody tr th:only-of-type {\n",
       "        vertical-align: middle;\n",
       "    }\n",
       "\n",
       "    .dataframe tbody tr th {\n",
       "        vertical-align: top;\n",
       "    }\n",
       "\n",
       "    .dataframe thead th {\n",
       "        text-align: right;\n",
       "    }\n",
       "</style>\n",
       "<table border=\"1\" class=\"dataframe\">\n",
       "  <thead>\n",
       "    <tr style=\"text-align: right;\">\n",
       "      <th></th>\n",
       "      <th>RowNumber</th>\n",
       "      <th>CustomerId</th>\n",
       "      <th>Surname</th>\n",
       "      <th>CreditScore</th>\n",
       "      <th>Geography</th>\n",
       "      <th>Gender</th>\n",
       "      <th>Age</th>\n",
       "      <th>Tenure</th>\n",
       "      <th>Balance</th>\n",
       "      <th>NumOfProducts</th>\n",
       "      <th>HasCrCard</th>\n",
       "      <th>IsActiveMember</th>\n",
       "      <th>EstimatedSalary</th>\n",
       "      <th>Exited</th>\n",
       "    </tr>\n",
       "  </thead>\n",
       "  <tbody>\n",
       "    <tr>\n",
       "      <th>0</th>\n",
       "      <td>1</td>\n",
       "      <td>15634602</td>\n",
       "      <td>Hargrave</td>\n",
       "      <td>619</td>\n",
       "      <td>France</td>\n",
       "      <td>Female</td>\n",
       "      <td>42</td>\n",
       "      <td>2</td>\n",
       "      <td>0.00</td>\n",
       "      <td>1</td>\n",
       "      <td>1</td>\n",
       "      <td>1</td>\n",
       "      <td>101348.88</td>\n",
       "      <td>1</td>\n",
       "    </tr>\n",
       "    <tr>\n",
       "      <th>1</th>\n",
       "      <td>2</td>\n",
       "      <td>15647311</td>\n",
       "      <td>Hill</td>\n",
       "      <td>608</td>\n",
       "      <td>Spain</td>\n",
       "      <td>Female</td>\n",
       "      <td>41</td>\n",
       "      <td>1</td>\n",
       "      <td>83807.86</td>\n",
       "      <td>1</td>\n",
       "      <td>0</td>\n",
       "      <td>1</td>\n",
       "      <td>112542.58</td>\n",
       "      <td>0</td>\n",
       "    </tr>\n",
       "    <tr>\n",
       "      <th>2</th>\n",
       "      <td>3</td>\n",
       "      <td>15619304</td>\n",
       "      <td>Onio</td>\n",
       "      <td>502</td>\n",
       "      <td>France</td>\n",
       "      <td>Female</td>\n",
       "      <td>42</td>\n",
       "      <td>8</td>\n",
       "      <td>159660.80</td>\n",
       "      <td>3</td>\n",
       "      <td>1</td>\n",
       "      <td>0</td>\n",
       "      <td>113931.57</td>\n",
       "      <td>1</td>\n",
       "    </tr>\n",
       "    <tr>\n",
       "      <th>3</th>\n",
       "      <td>4</td>\n",
       "      <td>15701354</td>\n",
       "      <td>Boni</td>\n",
       "      <td>699</td>\n",
       "      <td>France</td>\n",
       "      <td>Female</td>\n",
       "      <td>39</td>\n",
       "      <td>1</td>\n",
       "      <td>0.00</td>\n",
       "      <td>2</td>\n",
       "      <td>0</td>\n",
       "      <td>0</td>\n",
       "      <td>93826.63</td>\n",
       "      <td>0</td>\n",
       "    </tr>\n",
       "    <tr>\n",
       "      <th>4</th>\n",
       "      <td>5</td>\n",
       "      <td>15737888</td>\n",
       "      <td>Mitchell</td>\n",
       "      <td>850</td>\n",
       "      <td>Spain</td>\n",
       "      <td>Female</td>\n",
       "      <td>43</td>\n",
       "      <td>2</td>\n",
       "      <td>125510.82</td>\n",
       "      <td>1</td>\n",
       "      <td>1</td>\n",
       "      <td>1</td>\n",
       "      <td>79084.10</td>\n",
       "      <td>0</td>\n",
       "    </tr>\n",
       "  </tbody>\n",
       "</table>\n",
       "</div>"
      ],
      "text/plain": [
       "   RowNumber  CustomerId   Surname  CreditScore Geography  Gender  Age  \\\n",
       "0          1    15634602  Hargrave          619    France  Female   42   \n",
       "1          2    15647311      Hill          608     Spain  Female   41   \n",
       "2          3    15619304      Onio          502    France  Female   42   \n",
       "3          4    15701354      Boni          699    France  Female   39   \n",
       "4          5    15737888  Mitchell          850     Spain  Female   43   \n",
       "\n",
       "   Tenure    Balance  NumOfProducts  HasCrCard  IsActiveMember  \\\n",
       "0       2       0.00              1          1               1   \n",
       "1       1   83807.86              1          0               1   \n",
       "2       8  159660.80              3          1               0   \n",
       "3       1       0.00              2          0               0   \n",
       "4       2  125510.82              1          1               1   \n",
       "\n",
       "   EstimatedSalary  Exited  \n",
       "0        101348.88       1  \n",
       "1        112542.58       0  \n",
       "2        113931.57       1  \n",
       "3         93826.63       0  \n",
       "4         79084.10       0  "
      ]
     },
     "execution_count": 3,
     "metadata": {},
     "output_type": "execute_result"
    }
   ],
   "source": [
    "df.head()"
   ]
  },
  {
   "cell_type": "code",
   "execution_count": 4,
   "metadata": {},
   "outputs": [],
   "source": [
    "X = df.iloc[:,3:13].values"
   ]
  },
  {
   "cell_type": "code",
   "execution_count": 5,
   "metadata": {},
   "outputs": [
    {
     "data": {
      "text/plain": [
       "array([[619, 'France', 'Female', ..., 1, 1, 101348.88],\n",
       "       [608, 'Spain', 'Female', ..., 0, 1, 112542.58],\n",
       "       [502, 'France', 'Female', ..., 1, 0, 113931.57],\n",
       "       ...,\n",
       "       [709, 'France', 'Female', ..., 0, 1, 42085.58],\n",
       "       [772, 'Germany', 'Male', ..., 1, 0, 92888.52],\n",
       "       [792, 'France', 'Female', ..., 1, 0, 38190.78]], dtype=object)"
      ]
     },
     "execution_count": 5,
     "metadata": {},
     "output_type": "execute_result"
    }
   ],
   "source": [
    "X"
   ]
  },
  {
   "cell_type": "code",
   "execution_count": 6,
   "metadata": {},
   "outputs": [],
   "source": [
    "y = df.iloc[:,13].values"
   ]
  },
  {
   "cell_type": "code",
   "execution_count": 7,
   "metadata": {},
   "outputs": [
    {
     "data": {
      "text/plain": [
       "array([1, 0, 1, ..., 1, 1, 0], dtype=int64)"
      ]
     },
     "execution_count": 7,
     "metadata": {},
     "output_type": "execute_result"
    }
   ],
   "source": [
    "y"
   ]
  },
  {
   "cell_type": "code",
   "execution_count": 8,
   "metadata": {},
   "outputs": [],
   "source": [
    "from sklearn.preprocessing import Imputer"
   ]
  },
  {
   "cell_type": "code",
   "execution_count": 9,
   "metadata": {},
   "outputs": [],
   "source": [
    "from sklearn.preprocessing import LabelEncoder, OneHotEncoder"
   ]
  },
  {
   "cell_type": "code",
   "execution_count": 10,
   "metadata": {},
   "outputs": [],
   "source": [
    "labelencoder_X_1 = LabelEncoder()"
   ]
  },
  {
   "cell_type": "code",
   "execution_count": 11,
   "metadata": {},
   "outputs": [],
   "source": [
    "X[:,1] = labelencoder_X_1.fit_transform(X[:,1])"
   ]
  },
  {
   "cell_type": "code",
   "execution_count": 12,
   "metadata": {},
   "outputs": [
    {
     "data": {
      "text/plain": [
       "array([[619, 0, 'Female', ..., 1, 1, 101348.88],\n",
       "       [608, 2, 'Female', ..., 0, 1, 112542.58],\n",
       "       [502, 0, 'Female', ..., 1, 0, 113931.57],\n",
       "       ...,\n",
       "       [709, 0, 'Female', ..., 0, 1, 42085.58],\n",
       "       [772, 1, 'Male', ..., 1, 0, 92888.52],\n",
       "       [792, 0, 'Female', ..., 1, 0, 38190.78]], dtype=object)"
      ]
     },
     "execution_count": 12,
     "metadata": {},
     "output_type": "execute_result"
    }
   ],
   "source": [
    "X"
   ]
  },
  {
   "cell_type": "code",
   "execution_count": 13,
   "metadata": {},
   "outputs": [],
   "source": [
    "labelencoder_X_2 = LabelEncoder()"
   ]
  },
  {
   "cell_type": "code",
   "execution_count": 14,
   "metadata": {},
   "outputs": [],
   "source": [
    "X[:,2] = labelencoder_X_2.fit_transform(X[:,2])"
   ]
  },
  {
   "cell_type": "code",
   "execution_count": 15,
   "metadata": {},
   "outputs": [
    {
     "data": {
      "text/plain": [
       "array([[619, 0, 0, ..., 1, 1, 101348.88],\n",
       "       [608, 2, 0, ..., 0, 1, 112542.58],\n",
       "       [502, 0, 0, ..., 1, 0, 113931.57],\n",
       "       ...,\n",
       "       [709, 0, 0, ..., 0, 1, 42085.58],\n",
       "       [772, 1, 1, ..., 1, 0, 92888.52],\n",
       "       [792, 0, 0, ..., 1, 0, 38190.78]], dtype=object)"
      ]
     },
     "execution_count": 15,
     "metadata": {},
     "output_type": "execute_result"
    }
   ],
   "source": [
    "X"
   ]
  },
  {
   "cell_type": "code",
   "execution_count": 16,
   "metadata": {},
   "outputs": [],
   "source": [
    "onehotencoder = OneHotEncoder(categorical_features = [1])"
   ]
  },
  {
   "cell_type": "code",
   "execution_count": 17,
   "metadata": {},
   "outputs": [],
   "source": [
    "X = onehotencoder.fit_transform(X).toarray()"
   ]
  },
  {
   "cell_type": "code",
   "execution_count": 18,
   "metadata": {},
   "outputs": [
    {
     "data": {
      "text/plain": [
       "array([[1.0000000e+00, 0.0000000e+00, 0.0000000e+00, ..., 1.0000000e+00,\n",
       "        1.0000000e+00, 1.0134888e+05],\n",
       "       [0.0000000e+00, 0.0000000e+00, 1.0000000e+00, ..., 0.0000000e+00,\n",
       "        1.0000000e+00, 1.1254258e+05],\n",
       "       [1.0000000e+00, 0.0000000e+00, 0.0000000e+00, ..., 1.0000000e+00,\n",
       "        0.0000000e+00, 1.1393157e+05],\n",
       "       ...,\n",
       "       [1.0000000e+00, 0.0000000e+00, 0.0000000e+00, ..., 0.0000000e+00,\n",
       "        1.0000000e+00, 4.2085580e+04],\n",
       "       [0.0000000e+00, 1.0000000e+00, 0.0000000e+00, ..., 1.0000000e+00,\n",
       "        0.0000000e+00, 9.2888520e+04],\n",
       "       [1.0000000e+00, 0.0000000e+00, 0.0000000e+00, ..., 1.0000000e+00,\n",
       "        0.0000000e+00, 3.8190780e+04]])"
      ]
     },
     "execution_count": 18,
     "metadata": {},
     "output_type": "execute_result"
    }
   ],
   "source": [
    "X"
   ]
  },
  {
   "cell_type": "code",
   "execution_count": 19,
   "metadata": {},
   "outputs": [],
   "source": [
    "X = X[:,1:]"
   ]
  },
  {
   "cell_type": "code",
   "execution_count": 20,
   "metadata": {},
   "outputs": [
    {
     "data": {
      "text/plain": [
       "array([[0.0000000e+00, 0.0000000e+00, 6.1900000e+02, ..., 1.0000000e+00,\n",
       "        1.0000000e+00, 1.0134888e+05],\n",
       "       [0.0000000e+00, 1.0000000e+00, 6.0800000e+02, ..., 0.0000000e+00,\n",
       "        1.0000000e+00, 1.1254258e+05],\n",
       "       [0.0000000e+00, 0.0000000e+00, 5.0200000e+02, ..., 1.0000000e+00,\n",
       "        0.0000000e+00, 1.1393157e+05],\n",
       "       ...,\n",
       "       [0.0000000e+00, 0.0000000e+00, 7.0900000e+02, ..., 0.0000000e+00,\n",
       "        1.0000000e+00, 4.2085580e+04],\n",
       "       [1.0000000e+00, 0.0000000e+00, 7.7200000e+02, ..., 1.0000000e+00,\n",
       "        0.0000000e+00, 9.2888520e+04],\n",
       "       [0.0000000e+00, 0.0000000e+00, 7.9200000e+02, ..., 1.0000000e+00,\n",
       "        0.0000000e+00, 3.8190780e+04]])"
      ]
     },
     "execution_count": 20,
     "metadata": {},
     "output_type": "execute_result"
    }
   ],
   "source": [
    "X"
   ]
  },
  {
   "cell_type": "code",
   "execution_count": 21,
   "metadata": {},
   "outputs": [
    {
     "name": "stderr",
     "output_type": "stream",
     "text": [
      "C:\\ProgramData\\Anaconda3\\lib\\site-packages\\sklearn\\cross_validation.py:41: DeprecationWarning: This module was deprecated in version 0.18 in favor of the model_selection module into which all the refactored classes and functions are moved. Also note that the interface of the new CV iterators are different from that of this module. This module will be removed in 0.20.\n",
      "  \"This module will be removed in 0.20.\", DeprecationWarning)\n"
     ]
    }
   ],
   "source": [
    "from sklearn.cross_validation import train_test_split\n",
    "X_train, X_test, y_train, y_test = train_test_split(X, y, test_size = 0.20, random_state = 0)"
   ]
  },
  {
   "cell_type": "code",
   "execution_count": 22,
   "metadata": {},
   "outputs": [],
   "source": [
    "from sklearn.preprocessing import StandardScaler\n",
    "sc = StandardScaler()\n",
    "X_train = sc.fit_transform(X_train)\n",
    "X_test = sc.transform(X_test)"
   ]
  },
  {
   "cell_type": "code",
   "execution_count": 23,
   "metadata": {},
   "outputs": [
    {
     "name": "stderr",
     "output_type": "stream",
     "text": [
      "Using TensorFlow backend.\n"
     ]
    }
   ],
   "source": [
    "import keras\n",
    "from keras.models import Sequential\n",
    "from keras.layers import Dense"
   ]
  },
  {
   "cell_type": "code",
   "execution_count": 24,
   "metadata": {},
   "outputs": [],
   "source": [
    "#_init_ ANN"
   ]
  },
  {
   "cell_type": "code",
   "execution_count": 25,
   "metadata": {},
   "outputs": [],
   "source": [
    "classifier = Sequential()"
   ]
  },
  {
   "cell_type": "code",
   "execution_count": 26,
   "metadata": {},
   "outputs": [],
   "source": [
    "classifier.add(Dense(units=6,kernel_initializer='uniform',activation='relu',input_dim = 11))"
   ]
  },
  {
   "cell_type": "code",
   "execution_count": 27,
   "metadata": {},
   "outputs": [],
   "source": [
    "classifier.add(Dense(units=6,kernel_initializer='uniform',activation='relu'))"
   ]
  },
  {
   "cell_type": "code",
   "execution_count": 28,
   "metadata": {},
   "outputs": [],
   "source": [
    "classifier.add(Dense(units=1,kernel_initializer='uniform',activation='sigmoid'))"
   ]
  },
  {
   "cell_type": "code",
   "execution_count": 29,
   "metadata": {},
   "outputs": [],
   "source": [
    "classifier.compile(optimizer='adam',loss='binary_crossentropy',metrics=['accuracy'])"
   ]
  },
  {
   "cell_type": "code",
   "execution_count": 30,
   "metadata": {
    "scrolled": false
   },
   "outputs": [
    {
     "name": "stdout",
     "output_type": "stream",
     "text": [
      "Epoch 1/100\n",
      "8000/8000 [==============================] - 1s 94us/step - loss: 0.5040 - acc: 0.7982\n",
      "Epoch 2/100\n",
      "8000/8000 [==============================] - 0s 53us/step - loss: 0.4102 - acc: 0.8211\n",
      "Epoch 3/100\n",
      "8000/8000 [==============================] - 0s 50us/step - loss: 0.3972 - acc: 0.8282\n",
      "Epoch 4/100\n",
      "8000/8000 [==============================] - 0s 50us/step - loss: 0.3879 - acc: 0.8284\n",
      "Epoch 5/100\n",
      "8000/8000 [==============================] - 0s 50us/step - loss: 0.3801 - acc: 0.8315\n",
      "Epoch 6/100\n",
      "8000/8000 [==============================] - 0s 50us/step - loss: 0.3743 - acc: 0.8387\n",
      "Epoch 7/100\n",
      "8000/8000 [==============================] - 0s 50us/step - loss: 0.3695 - acc: 0.8470\n",
      "Epoch 8/100\n",
      "8000/8000 [==============================] - 0s 50us/step - loss: 0.3661 - acc: 0.8505\n",
      "Epoch 9/100\n",
      "8000/8000 [==============================] - 0s 50us/step - loss: 0.3629 - acc: 0.8504\n",
      "Epoch 10/100\n",
      "8000/8000 [==============================] - 0s 50us/step - loss: 0.3606 - acc: 0.8517\n",
      "Epoch 11/100\n",
      "8000/8000 [==============================] - 0s 50us/step - loss: 0.3579 - acc: 0.8534\n",
      "Epoch 12/100\n",
      "8000/8000 [==============================] - 0s 49us/step - loss: 0.3566 - acc: 0.8552\n",
      "Epoch 13/100\n",
      "8000/8000 [==============================] - 0s 51us/step - loss: 0.3545 - acc: 0.8546\n",
      "Epoch 14/100\n",
      "8000/8000 [==============================] - 0s 52us/step - loss: 0.3533 - acc: 0.8545\n",
      "Epoch 15/100\n",
      "8000/8000 [==============================] - 0s 54us/step - loss: 0.3516 - acc: 0.8565\n",
      "Epoch 16/100\n",
      "8000/8000 [==============================] - 0s 55us/step - loss: 0.3497 - acc: 0.8566\n",
      "Epoch 17/100\n",
      "8000/8000 [==============================] - 0s 51us/step - loss: 0.3488 - acc: 0.8562\n",
      "Epoch 18/100\n",
      "8000/8000 [==============================] - 0s 52us/step - loss: 0.3491 - acc: 0.8560\n",
      "Epoch 19/100\n",
      "8000/8000 [==============================] - 0s 50us/step - loss: 0.3471 - acc: 0.8582\n",
      "Epoch 20/100\n",
      "8000/8000 [==============================] - 0s 50us/step - loss: 0.3468 - acc: 0.8580\n",
      "Epoch 21/100\n",
      "8000/8000 [==============================] - 0s 51us/step - loss: 0.3471 - acc: 0.8596\n",
      "Epoch 22/100\n",
      "8000/8000 [==============================] - 0s 51us/step - loss: 0.3467 - acc: 0.8587\n",
      "Epoch 23/100\n",
      "8000/8000 [==============================] - 0s 50us/step - loss: 0.3454 - acc: 0.8582\n",
      "Epoch 24/100\n",
      "8000/8000 [==============================] - 0s 52us/step - loss: 0.3450 - acc: 0.8579\n",
      "Epoch 25/100\n",
      "8000/8000 [==============================] - 0s 50us/step - loss: 0.3448 - acc: 0.8580\n",
      "Epoch 26/100\n",
      "8000/8000 [==============================] - 0s 51us/step - loss: 0.3444 - acc: 0.8596\n",
      "Epoch 27/100\n",
      "8000/8000 [==============================] - 0s 51us/step - loss: 0.3441 - acc: 0.8571\n",
      "Epoch 28/100\n",
      "8000/8000 [==============================] - 0s 50us/step - loss: 0.3434 - acc: 0.8596\n",
      "Epoch 29/100\n",
      "8000/8000 [==============================] - 0s 50us/step - loss: 0.3430 - acc: 0.8590\n",
      "Epoch 30/100\n",
      "8000/8000 [==============================] - 0s 50us/step - loss: 0.3434 - acc: 0.8605\n",
      "Epoch 31/100\n",
      "8000/8000 [==============================] - 0s 50us/step - loss: 0.3426 - acc: 0.8582\n",
      "Epoch 32/100\n",
      "8000/8000 [==============================] - 0s 51us/step - loss: 0.3423 - acc: 0.8601\n",
      "Epoch 33/100\n",
      "8000/8000 [==============================] - 0s 51us/step - loss: 0.3421 - acc: 0.8582\n",
      "Epoch 34/100\n",
      "8000/8000 [==============================] - 0s 50us/step - loss: 0.3425 - acc: 0.8585\n",
      "Epoch 35/100\n",
      "8000/8000 [==============================] - 0s 52us/step - loss: 0.3419 - acc: 0.8595\n",
      "Epoch 36/100\n",
      "8000/8000 [==============================] - 0s 52us/step - loss: 0.3414 - acc: 0.8592\n",
      "Epoch 37/100\n",
      "8000/8000 [==============================] - 0s 50us/step - loss: 0.3420 - acc: 0.8620\n",
      "Epoch 38/100\n",
      "8000/8000 [==============================] - 0s 53us/step - loss: 0.3409 - acc: 0.8606\n",
      "Epoch 39/100\n",
      "8000/8000 [==============================] - 0s 50us/step - loss: 0.3407 - acc: 0.8614\n",
      "Epoch 40/100\n",
      "8000/8000 [==============================] - 0s 51us/step - loss: 0.3401 - acc: 0.8591\n",
      "Epoch 41/100\n",
      "8000/8000 [==============================] - 0s 51us/step - loss: 0.3399 - acc: 0.8612\n",
      "Epoch 42/100\n",
      "8000/8000 [==============================] - 0s 51us/step - loss: 0.3415 - acc: 0.8605\n",
      "Epoch 43/100\n",
      "8000/8000 [==============================] - 0s 52us/step - loss: 0.3404 - acc: 0.8606\n",
      "Epoch 44/100\n",
      "8000/8000 [==============================] - 0s 51us/step - loss: 0.3413 - acc: 0.8610\n",
      "Epoch 45/100\n",
      "8000/8000 [==============================] - 0s 51us/step - loss: 0.3402 - acc: 0.8606\n",
      "Epoch 46/100\n",
      "8000/8000 [==============================] - 0s 50us/step - loss: 0.3411 - acc: 0.8594\n",
      "Epoch 47/100\n",
      "8000/8000 [==============================] - 0s 52us/step - loss: 0.3405 - acc: 0.8614\n",
      "Epoch 48/100\n",
      "8000/8000 [==============================] - 0s 52us/step - loss: 0.3411 - acc: 0.8601\n",
      "Epoch 49/100\n",
      "8000/8000 [==============================] - 0s 50us/step - loss: 0.3395 - acc: 0.8615\n",
      "Epoch 50/100\n",
      "8000/8000 [==============================] - 0s 51us/step - loss: 0.3394 - acc: 0.8577\n",
      "Epoch 51/100\n",
      "8000/8000 [==============================] - 0s 51us/step - loss: 0.3400 - acc: 0.8605\n",
      "Epoch 52/100\n",
      "8000/8000 [==============================] - 0s 51us/step - loss: 0.3405 - acc: 0.8591\n",
      "Epoch 53/100\n",
      "8000/8000 [==============================] - 0s 50us/step - loss: 0.3403 - acc: 0.8581\n",
      "Epoch 54/100\n",
      "8000/8000 [==============================] - 0s 51us/step - loss: 0.3391 - acc: 0.8582\n",
      "Epoch 55/100\n",
      "8000/8000 [==============================] - 0s 51us/step - loss: 0.3391 - acc: 0.8599\n",
      "Epoch 56/100\n",
      "8000/8000 [==============================] - 0s 51us/step - loss: 0.3389 - acc: 0.8599\n",
      "Epoch 57/100\n",
      "8000/8000 [==============================] - 0s 51us/step - loss: 0.3390 - acc: 0.8606\n",
      "Epoch 58/100\n",
      "8000/8000 [==============================] - 0s 51us/step - loss: 0.3387 - acc: 0.8617\n",
      "Epoch 59/100\n",
      "8000/8000 [==============================] - 0s 51us/step - loss: 0.3386 - acc: 0.8612\n",
      "Epoch 60/100\n",
      "8000/8000 [==============================] - 0s 51us/step - loss: 0.3387 - acc: 0.8601\n",
      "Epoch 61/100\n",
      "8000/8000 [==============================] - 0s 51us/step - loss: 0.3390 - acc: 0.8589\n",
      "Epoch 62/100\n",
      "8000/8000 [==============================] - 0s 50us/step - loss: 0.3377 - acc: 0.8619\n",
      "Epoch 63/100\n",
      "8000/8000 [==============================] - 0s 50us/step - loss: 0.3399 - acc: 0.8595\n",
      "Epoch 64/100\n",
      "8000/8000 [==============================] - 0s 51us/step - loss: 0.3392 - acc: 0.8601\n",
      "Epoch 65/100\n",
      "8000/8000 [==============================] - 0s 51us/step - loss: 0.3392 - acc: 0.8611\n",
      "Epoch 66/100\n",
      "8000/8000 [==============================] - 0s 52us/step - loss: 0.3390 - acc: 0.8615\n",
      "Epoch 67/100\n",
      "8000/8000 [==============================] - 0s 52us/step - loss: 0.3380 - acc: 0.8610\n",
      "Epoch 68/100\n",
      "8000/8000 [==============================] - 0s 52us/step - loss: 0.3396 - acc: 0.8601\n",
      "Epoch 69/100\n",
      "8000/8000 [==============================] - 0s 51us/step - loss: 0.3382 - acc: 0.8636\n",
      "Epoch 70/100\n",
      "8000/8000 [==============================] - 0s 51us/step - loss: 0.3389 - acc: 0.8616\n",
      "Epoch 71/100\n",
      "8000/8000 [==============================] - 0s 51us/step - loss: 0.3378 - acc: 0.8604\n",
      "Epoch 72/100\n",
      "8000/8000 [==============================] - 0s 51us/step - loss: 0.3391 - acc: 0.8610\n",
      "Epoch 73/100\n",
      "8000/8000 [==============================] - 0s 51us/step - loss: 0.3386 - acc: 0.8601\n",
      "Epoch 74/100\n",
      "8000/8000 [==============================] - 0s 51us/step - loss: 0.3389 - acc: 0.8627\n",
      "Epoch 75/100\n",
      "8000/8000 [==============================] - 0s 51us/step - loss: 0.3377 - acc: 0.8621\n",
      "Epoch 76/100\n",
      "8000/8000 [==============================] - 0s 51us/step - loss: 0.3378 - acc: 0.8610\n",
      "Epoch 77/100\n",
      "8000/8000 [==============================] - 0s 51us/step - loss: 0.3386 - acc: 0.8604\n",
      "Epoch 78/100\n",
      "8000/8000 [==============================] - 0s 51us/step - loss: 0.3382 - acc: 0.8610\n",
      "Epoch 79/100\n",
      "8000/8000 [==============================] - 0s 51us/step - loss: 0.3377 - acc: 0.8606\n",
      "Epoch 80/100\n",
      "8000/8000 [==============================] - 0s 51us/step - loss: 0.3388 - acc: 0.8604\n",
      "Epoch 81/100\n",
      "8000/8000 [==============================] - 0s 51us/step - loss: 0.3375 - acc: 0.8606\n",
      "Epoch 82/100\n",
      "8000/8000 [==============================] - 0s 50us/step - loss: 0.3386 - acc: 0.8612\n",
      "Epoch 83/100\n"
     ]
    },
    {
     "name": "stdout",
     "output_type": "stream",
     "text": [
      "8000/8000 [==============================] - 0s 50us/step - loss: 0.3377 - acc: 0.8609\n",
      "Epoch 84/100\n",
      "8000/8000 [==============================] - 0s 50us/step - loss: 0.3391 - acc: 0.8606\n",
      "Epoch 85/100\n",
      "8000/8000 [==============================] - 0s 50us/step - loss: 0.3376 - acc: 0.8631\n",
      "Epoch 86/100\n",
      "8000/8000 [==============================] - 0s 50us/step - loss: 0.3379 - acc: 0.8597\n",
      "Epoch 87/100\n",
      "8000/8000 [==============================] - 0s 50us/step - loss: 0.3381 - acc: 0.8607\n",
      "Epoch 88/100\n",
      "8000/8000 [==============================] - 0s 50us/step - loss: 0.3371 - acc: 0.8615\n",
      "Epoch 89/100\n",
      "8000/8000 [==============================] - 0s 50us/step - loss: 0.3377 - acc: 0.8604\n",
      "Epoch 90/100\n",
      "8000/8000 [==============================] - 0s 50us/step - loss: 0.3385 - acc: 0.8594\n",
      "Epoch 91/100\n",
      "8000/8000 [==============================] - 0s 55us/step - loss: 0.3382 - acc: 0.8619\n",
      "Epoch 92/100\n",
      "8000/8000 [==============================] - 0s 50us/step - loss: 0.3381 - acc: 0.8609\n",
      "Epoch 93/100\n",
      "8000/8000 [==============================] - 1s 71us/step - loss: 0.3383 - acc: 0.8587\n",
      "Epoch 94/100\n",
      "8000/8000 [==============================] - 0s 59us/step - loss: 0.3377 - acc: 0.8612\n",
      "Epoch 95/100\n",
      "8000/8000 [==============================] - 0s 58us/step - loss: 0.3374 - acc: 0.8595\n",
      "Epoch 96/100\n",
      "8000/8000 [==============================] - 0s 57us/step - loss: 0.3382 - acc: 0.8624\n",
      "Epoch 97/100\n",
      "8000/8000 [==============================] - 0s 58us/step - loss: 0.3374 - acc: 0.8605\n",
      "Epoch 98/100\n",
      "8000/8000 [==============================] - 0s 56us/step - loss: 0.3371 - acc: 0.8601\n",
      "Epoch 99/100\n",
      "8000/8000 [==============================] - 0s 55us/step - loss: 0.3375 - acc: 0.8614\n",
      "Epoch 100/100\n",
      "8000/8000 [==============================] - 0s 53us/step - loss: 0.3376 - acc: 0.8600\n"
     ]
    },
    {
     "data": {
      "text/plain": [
       "<keras.callbacks.History at 0x2e049ac5d30>"
      ]
     },
     "execution_count": 30,
     "metadata": {},
     "output_type": "execute_result"
    }
   ],
   "source": [
    "classifier.fit(X_train,y_train,batch_size=10,epochs= 100)"
   ]
  },
  {
   "cell_type": "code",
   "execution_count": 31,
   "metadata": {},
   "outputs": [],
   "source": [
    "y_pred = classifier.predict(X_test)"
   ]
  },
  {
   "cell_type": "code",
   "execution_count": 32,
   "metadata": {},
   "outputs": [
    {
     "data": {
      "text/plain": [
       "RowNumber         -0.016571\n",
       "CustomerId        -0.006248\n",
       "CreditScore       -0.027094\n",
       "Age                0.285323\n",
       "Tenure            -0.014001\n",
       "Balance            0.118533\n",
       "NumOfProducts     -0.047820\n",
       "HasCrCard         -0.007138\n",
       "IsActiveMember    -0.156128\n",
       "EstimatedSalary    0.012097\n",
       "Exited             1.000000\n",
       "Name: Exited, dtype: float64"
      ]
     },
     "execution_count": 32,
     "metadata": {},
     "output_type": "execute_result"
    }
   ],
   "source": [
    "df.corr()['Exited']"
   ]
  },
  {
   "cell_type": "code",
   "execution_count": 33,
   "metadata": {},
   "outputs": [
    {
     "data": {
      "text/plain": [
       "<matplotlib.axes._subplots.AxesSubplot at 0x2e04a8eb828>"
      ]
     },
     "execution_count": 33,
     "metadata": {},
     "output_type": "execute_result"
    },
    {
     "data": {
      "image/png": "[encoded data removed]",
      "text/plain": [
       "<Figure size 864x648 with 1 Axes>"
      ]
     },
     "metadata": {},
     "output_type": "display_data"
    }
   ],
   "source": [
    "plt.figure(figsize=(12,9))\n",
    "sns.distplot(df['Age'])"
   ]
  },
  {
   "cell_type": "code",
   "execution_count": 34,
   "metadata": {},
   "outputs": [
    {
     "data": {
      "text/plain": [
       "<matplotlib.axes._subplots.AxesSubplot at 0x2e04a91e198>"
      ]
     },
     "execution_count": 34,
     "metadata": {},
     "output_type": "execute_result"
    },
    {
     "data": {
      "image/png": "[encoded data removed]",
      "text/plain": [
       "<Figure size 864x648 with 1 Axes>"
      ]
     },
     "metadata": {},
     "output_type": "display_data"
    }
   ],
   "source": [
    "plt.figure(figsize=(12,9))\n",
    "sns.countplot(x='Geography',hue='Exited',data=df)"
   ]
  },
  {
   "cell_type": "code",
   "execution_count": 35,
   "metadata": {},
   "outputs": [
    {
     "data": {
      "text/plain": [
       "<matplotlib.axes._subplots.AxesSubplot at 0x2e04d99e0f0>"
      ]
     },
     "execution_count": 35,
     "metadata": {},
     "output_type": "execute_result"
    },
    {
     "data": {
      "image/png": "[encoded data removed]",
      "text/plain": [
       "<Figure size 1080x1080 with 1 Axes>"
      ]
     },
     "metadata": {},
     "output_type": "display_data"
    }
   ],
   "source": [
    "plt.figure(figsize=(15,15))\n",
    "sns.barplot(x='Geography',y='Age',hue='Exited',data=df)"
   ]
  },
  {
   "cell_type": "code",
   "execution_count": 36,
   "metadata": {},
   "outputs": [
    {
     "data": {
      "text/plain": [
       "92"
      ]
     },
     "execution_count": 36,
     "metadata": {},
     "output_type": "execute_result"
    }
   ],
   "source": [
    "df['Age'].max()"
   ]
  },
  {
   "cell_type": "code",
   "execution_count": 37,
   "metadata": {},
   "outputs": [
    {
     "data": {
      "text/plain": [
       "<matplotlib.axes._subplots.AxesSubplot at 0x2e04ddd93c8>"
      ]
     },
     "execution_count": 37,
     "metadata": {},
     "output_type": "execute_result"
    },
    {
     "data": {
      "image/png": "[encoded data removed]",
      "text/plain": [
       "<Figure size 1080x1080 with 1 Axes>"
      ]
     },
     "metadata": {},
     "output_type": "display_data"
    }
   ],
   "source": [
    "plt.figure(figsize=(15,15))\n",
    "sns.barplot(x='Gender',y='Age',hue='Exited',data=df)"
   ]
  },
  {
   "cell_type": "code",
   "execution_count": 38,
   "metadata": {},
   "outputs": [
    {
     "data": {
      "text/plain": [
       "-0.02709353975465779"
      ]
     },
     "execution_count": 38,
     "metadata": {},
     "output_type": "execute_result"
    }
   ],
   "source": [
    "df['CreditScore'].corr(df['Exited'])"
   ]
  },
  {
   "cell_type": "code",
   "execution_count": 39,
   "metadata": {},
   "outputs": [
    {
     "data": {
      "text/plain": [
       "0.28532303783506835"
      ]
     },
     "execution_count": 39,
     "metadata": {},
     "output_type": "execute_result"
    }
   ],
   "source": [
    "df['Age'].corr(df['Exited'])"
   ]
  },
  {
   "cell_type": "code",
   "execution_count": 40,
   "metadata": {},
   "outputs": [],
   "source": [
    "from sklearn.metrics import confusion_matrix,classification_report"
   ]
  },
  {
   "cell_type": "code",
   "execution_count": 41,
   "metadata": {},
   "outputs": [],
   "source": [
    "y_pred = (y_pred>0.5)"
   ]
  },
  {
   "cell_type": "code",
   "execution_count": 42,
   "metadata": {},
   "outputs": [],
   "source": [
    "cm = confusion_matrix(y_test,y_pred)"
   ]
  },
  {
   "cell_type": "code",
   "execution_count": 43,
   "metadata": {},
   "outputs": [
    {
     "data": {
      "text/plain": [
       "array([[1522,   73],\n",
       "       [ 209,  196]], dtype=int64)"
      ]
     },
     "execution_count": 43,
     "metadata": {},
     "output_type": "execute_result"
    }
   ],
   "source": [
    "cm"
   ]
  },
  {
   "cell_type": "code",
   "execution_count": 44,
   "metadata": {},
   "outputs": [
    {
     "data": {
      "text/plain": [
       "0.845"
      ]
     },
     "execution_count": 44,
     "metadata": {},
     "output_type": "execute_result"
    }
   ],
   "source": [
    "((1537+153)/2000)"
   ]
  },
  {
   "cell_type": "code",
   "execution_count": 45,
   "metadata": {},
   "outputs": [],
   "source": [
    "X1 = X[:,1]==600"
   ]
  },
  {
   "cell_type": "code",
   "execution_count": 46,
   "metadata": {},
   "outputs": [
    {
     "data": {
      "text/plain": [
       "array([[0.0000000e+00, 0.0000000e+00, 6.1900000e+02, ..., 1.0000000e+00,\n",
       "        1.0000000e+00, 1.0134888e+05],\n",
       "       [0.0000000e+00, 1.0000000e+00, 6.0800000e+02, ..., 0.0000000e+00,\n",
       "        1.0000000e+00, 1.1254258e+05],\n",
       "       [0.0000000e+00, 0.0000000e+00, 5.0200000e+02, ..., 1.0000000e+00,\n",
       "        0.0000000e+00, 1.1393157e+05],\n",
       "       ...,\n",
       "       [0.0000000e+00, 0.0000000e+00, 7.0900000e+02, ..., 0.0000000e+00,\n",
       "        1.0000000e+00, 4.2085580e+04],\n",
       "       [1.0000000e+00, 0.0000000e+00, 7.7200000e+02, ..., 1.0000000e+00,\n",
       "        0.0000000e+00, 9.2888520e+04],\n",
       "       [0.0000000e+00, 0.0000000e+00, 7.9200000e+02, ..., 1.0000000e+00,\n",
       "        0.0000000e+00, 3.8190780e+04]])"
      ]
     },
     "execution_count": 46,
     "metadata": {},
     "output_type": "execute_result"
    }
   ],
   "source": [
    "X"
   ]
  }
 ],
 "metadata": {
  "kernelspec": {
   "display_name": "Python 3",
   "language": "python",
   "name": "python3"
  },
  "language_info": {
   "codemirror_mode": {
    "name": "ipython",
    "version": 3
   },
   "file_extension": ".py",
   "mimetype": "text/x-python",
   "name": "python",
   "nbconvert_exporter": "python",
   "pygments_lexer": "ipython3",
   "version": "3.6.6"
  }
 },
 "nbformat": 4,
 "nbformat_minor": 2
}
